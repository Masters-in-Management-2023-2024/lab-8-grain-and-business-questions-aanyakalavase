{
  "cells": [
    {
      "cell_type": "markdown",
      "metadata": {
        "id": "1xXvv9GY3znH"
      },
      "source": [
        "# Diamond Company Analytics Challenge\n",
        "\n",
        "**Time:** 35 minutes\n",
        "\n",
        "**Scenario:** You are the new data analyst at a prestigious diamond company. The CEO has called an urgent meeting and needs answers to critical business questions about the inventory.\n",
        "\n",
        "**Your Mission:** Analyze the diamond inventory data and provide insights to guide strategic decisions."
      ]
    },
    {
      "cell_type": "code",
      "execution_count": 1,
      "metadata": {
        "colab": {
          "base_uri": "https://localhost:8080/"
        },
        "id": "PYvmH1-g3znJ",
        "outputId": "0a981b73-106a-4276-8a64-90ac0f3210eb"
      },
      "outputs": [
        {
          "output_type": "stream",
          "name": "stdout",
          "text": [
            "Loading diamonds dataset...\n",
            "Dataset loaded successfully!\n"
          ]
        }
      ],
      "source": [
        "import polars as pl\n",
        "\n",
        "# Load the diamonds dataset\n",
        "print(\"Loading diamonds dataset...\")\n",
        "df = pl.read_csv('https://raw.githubusercontent.com/pycaret/pycaret/master/datasets/diamond.csv')\n",
        "print(\"Dataset loaded successfully!\")"
      ]
    },
    {
      "cell_type": "markdown",
      "metadata": {
        "id": "YzUPSGBK3znL"
      },
      "source": [
        "## Section 1: Initial Inventory Assessment (5 minutes)\n",
        "\n",
        "The CEO walks in: \"Before we dive into specifics, I need to understand what we're working with. Give me the basics about our inventory database.\""
      ]
    },
    {
      "cell_type": "markdown",
      "metadata": {
        "id": "UwHYhhR93znL"
      },
      "source": [
        "### Question 1: \"How extensive is our inventory database?\"\n",
        "\n",
        "The CEO needs to know the scale of data you're analyzing."
      ]
    },
    {
      "cell_type": "code",
      "execution_count": 2,
      "metadata": {
        "id": "ABzR4c7c3znL",
        "colab": {
          "base_uri": "https://localhost:8080/"
        },
        "outputId": "92ac5401-78b4-4c57-c785-cd55807d2c26"
      },
      "outputs": [
        {
          "output_type": "stream",
          "name": "stdout",
          "text": [
            "Shape: (6000, 8)\n",
            "Columns: ['Carat Weight', 'Cut', 'Color', 'Clarity', 'Polish', 'Symmetry', 'Report', 'Price']\n"
          ]
        }
      ],
      "source": [
        "# Your code here:\n",
        "print(f\"Shape: {df.shape}\")\n",
        "print(f\"Columns: {df.columns}\")\n"
      ]
    },
    {
      "cell_type": "markdown",
      "metadata": {
        "id": "rGshb0PH3znM"
      },
      "source": [
        "### Question 2: \"What information do we track about each diamond?\"\n",
        "\n",
        "List all the characteristics we record."
      ]
    },
    {
      "cell_type": "code",
      "execution_count": 21,
      "metadata": {
        "id": "VUXvi1993znM",
        "colab": {
          "base_uri": "https://localhost:8080/"
        },
        "outputId": "c82c141b-eb74-4081-a9a7-6d67b89b651e"
      },
      "outputs": [
        {
          "output_type": "stream",
          "name": "stdout",
          "text": [
            "The characteristics tracked for each diamond are:\n",
            "- Carat Weight\n",
            "- Cut\n",
            "- Color\n",
            "- Clarity\n",
            "- Polish\n",
            "- Symmetry\n",
            "- Report\n",
            "- Price\n",
            "{'Polish', 'Carat Weight', 'Report', 'Price', 'Clarity', 'Cut', 'Symmetry', 'Color'}\n"
          ]
        }
      ],
      "source": [
        "# Your code here:\n",
        "\n",
        "print(\"The characteristics tracked for each diamond are:\")\n",
        "for column in df.columns:\n",
        "  print(f\"- {column}\")"
      ]
    },
    {
      "cell_type": "markdown",
      "metadata": {
        "id": "bd_z76z93znM"
      },
      "source": [
        "### Question 3: \"When I look at one line in this database, what am I looking at?\"\n",
        "\n",
        "Explain in business terms:"
      ]
    },
    {
      "cell_type": "markdown",
      "metadata": {
        "id": "4MVfq8hR3znO"
      },
      "source": [
        "**Your answer:** Each row represents: the price of diamond based on its characteristics"
      ]
    },
    {
      "cell_type": "markdown",
      "metadata": {
        "id": "LVBECP4u3znO"
      },
      "source": [
        "## Section 2: Strategic Business Questions (20 minutes)\n",
        "\n",
        "The CEO continues: \"Now let's get to the important questions. Our board meeting is tomorrow and I need concrete numbers.\""
      ]
    },
    {
      "cell_type": "markdown",
      "metadata": {
        "id": "2MyytKml3znP"
      },
      "source": [
        "### Question 4: \"We're considering expanding our storage facilities. How many total carats do we have in inventory? I need to know if our vaults can handle the weight.\"\n",
        "\n",
        "Think about what measurement would help answer this."
      ]
    },
    {
      "cell_type": "code",
      "execution_count": 23,
      "metadata": {
        "id": "cM2pBm2s3znP",
        "colab": {
          "base_uri": "https://localhost:8080/"
        },
        "outputId": "09762e0a-ff93-4e39-87d6-b856248360d7"
      },
      "outputs": [
        {
          "output_type": "stream",
          "name": "stdout",
          "text": [
            "Total carat in inventory: 8,007.12\n"
          ]
        }
      ],
      "source": [
        "# Your code here:\n",
        "total_carat = df.select(pl.col(\"Carat Weight\").sum())[0,0]\n",
        "print(f\"Total carat in inventory: {total_carat:,.2f}\")"
      ]
    },
    {
      "cell_type": "markdown",
      "metadata": {
        "id": "dTPW8QHY3znP"
      },
      "source": [
        "### Question 5: \"Our new marketing campaign claims we have 'the widest variety of cuts in the industry.' Can you verify this?\"\n",
        "\n",
        "The CEO wants to know about variety, not quantity."
      ]
    },
    {
      "cell_type": "code",
      "execution_count": 13,
      "metadata": {
        "id": "2JGLvyT23znP",
        "colab": {
          "base_uri": "https://localhost:8080/"
        },
        "outputId": "6af31ff8-37f5-4edc-8e48-b9b1df03567f"
      },
      "outputs": [
        {
          "output_type": "stream",
          "name": "stdout",
          "text": [
            "The unique cuts in our inventory are:\n",
            "shape: (5, 1)\n",
            "┌─────────────────┐\n",
            "│ Cut             │\n",
            "│ ---             │\n",
            "│ str             │\n",
            "╞═════════════════╡\n",
            "│ Fair            │\n",
            "│ Ideal           │\n",
            "│ Very Good       │\n",
            "│ Good            │\n",
            "│ Signature-Ideal │\n",
            "└─────────────────┘\n"
          ]
        }
      ],
      "source": [
        "# Your code here:\n",
        "unique_cuts = df.select(pl.col(\"Cut\").unique())\n",
        "print(\"The unique cuts in our inventory are:\")\n",
        "print(unique_cuts)\n"
      ]
    },
    {
      "cell_type": "markdown",
      "metadata": {
        "id": "sV0CqUjX3znP"
      },
      "source": [
        "### Question 6: \"I'm meeting with our insurance company. They need to know our price exposure - what's our most and least valuable diamond?\""
      ]
    },
    {
      "cell_type": "code",
      "execution_count": 14,
      "metadata": {
        "id": "QZA_8wzU3znQ",
        "colab": {
          "base_uri": "https://localhost:8080/"
        },
        "outputId": "56efad4a-f418-47bc-ca4e-92ba1e3967a5"
      },
      "outputs": [
        {
          "output_type": "stream",
          "name": "stdout",
          "text": [
            "Most valuable diamond price: $101,561.00\n",
            "Least valuable diamond price: $2,184.00\n"
          ]
        }
      ],
      "source": [
        "# Your code here:\n",
        "most_valuable = df.select(pl.col(\"Price\").max()).item()\n",
        "least_valuable = df.select(pl.col(\"Price\").min()).item()\n",
        "\n",
        "print(f\"Most valuable diamond price: ${most_valuable:,.2f}\")\n",
        "print(f\"Least valuable diamond price: ${least_valuable:,.2f}\")"
      ]
    },
    {
      "cell_type": "markdown",
      "metadata": {
        "id": "SplHdQHB3znQ"
      },
      "source": [
        "### Question 7: \"Which color grades should we focus on in our premium line? I need typical prices across our color spectrum.\"\n",
        "\n",
        "The CEO wants to understand pricing patterns."
      ]
    },
    {
      "cell_type": "code",
      "execution_count": 15,
      "metadata": {
        "id": "1hYE7mvR3znQ",
        "colab": {
          "base_uri": "https://localhost:8080/"
        },
        "outputId": "d95bf727-0db5-4c2d-ed0e-92441d4a8886"
      },
      "outputs": [
        {
          "output_type": "stream",
          "name": "stdout",
          "text": [
            "Typical prices across color grades:\n",
            "shape: (6, 2)\n",
            "┌───────┬───────────────┐\n",
            "│ Color ┆ Average Price │\n",
            "│ ---   ┆ ---           │\n",
            "│ str   ┆ f64           │\n",
            "╞═══════╪═══════════════╡\n",
            "│ D     ┆ 15255.783661  │\n",
            "│ F     ┆ 12712.241856  │\n",
            "│ G     ┆ 12520.050633  │\n",
            "│ E     ┆ 11539.190231  │\n",
            "│ H     ┆ 10487.347544  │\n",
            "│ I     ┆ 8989.636364   │\n",
            "└───────┴───────────────┘\n"
          ]
        }
      ],
      "source": [
        "# Your code here:\n",
        "avg_price_by_color = df.group_by(\"Color\").agg(pl.col(\"Price\").mean().alias(\"Average Price\")).sort(\"Average Price\", descending=True)\n",
        "print(\"Typical prices across color grades:\")\n",
        "print(avg_price_by_color)"
      ]
    },
    {
      "cell_type": "markdown",
      "metadata": {
        "id": "y2RCImP43znQ"
      },
      "source": [
        "**Reflection:** After analyzing by color, how has your view of the data changed? What does each row in your result represent now?"
      ]
    },
    {
      "cell_type": "markdown",
      "metadata": {
        "id": "39sdEr_h3znQ"
      },
      "source": [
        "**Your answer:** New grain = Average price by the color of the diamond"
      ]
    },
    {
      "cell_type": "markdown",
      "metadata": {
        "id": "Cra_KOVN3znQ"
      },
      "source": [
        "## Section 3: Advanced Strategic Analysis (10 minutes)\n",
        "\n",
        "The CEO leans forward: \"These next questions will shape our strategy for next year.\""
      ]
    },
    {
      "cell_type": "markdown",
      "metadata": {
        "id": "ihwD1nLA3znR"
      },
      "source": [
        "### Question 8: \"We're thinking of specializing in certain clarity grades. For our investor deck, I need a complete breakdown showing: how many diamonds we have in each clarity grade, their typical price, and the total carats we're holding for each grade.\""
      ]
    },
    {
      "cell_type": "code",
      "source": [
        "# Your code here:\n",
        "clarity_breakdown = df.group_by(\"Clarity\").agg([\n",
        "    pl.count().alias(\"Number of Diamonds\"),\n",
        "    pl.col(\"Price\").mean().alias(\"Typical Price\"),\n",
        "    pl.col(\"Carat Weight\").sum().alias(\"Total Carats\")\n",
        "]).sort(\"Typical Price\", descending=True)\n",
        "\n",
        "print(\"Inventory breakdown by clarity grade:\")\n",
        "print(clarity_breakdown)"
      ],
      "metadata": {
        "colab": {
          "base_uri": "https://localhost:8080/"
        },
        "id": "Ky_FhWAUl31V",
        "outputId": "65b4a49d-9502-436f-bbe0-79d41aa4449c"
      },
      "execution_count": 16,
      "outputs": [
        {
          "output_type": "stream",
          "name": "stdout",
          "text": [
            "Inventory breakdown by clarity grade:\n",
            "shape: (7, 4)\n",
            "┌─────────┬────────────────────┬───────────────┬──────────────┐\n",
            "│ Clarity ┆ Number of Diamonds ┆ Typical Price ┆ Total Carats │\n",
            "│ ---     ┆ ---                ┆ ---           ┆ ---          │\n",
            "│ str     ┆ u32                ┆ f64           ┆ f64          │\n",
            "╞═════════╪════════════════════╪═══════════════╪══════════════╡\n",
            "│ FL      ┆ 4                  ┆ 63776.0       ┆ 7.87         │\n",
            "│ IF      ┆ 219                ┆ 22105.844749  ┆ 316.0        │\n",
            "│ VVS1    ┆ 285                ┆ 16845.680702  ┆ 389.43       │\n",
            "│ VVS2    ┆ 666                ┆ 14142.177177  ┆ 876.58       │\n",
            "│ VS1     ┆ 1192               ┆ 13694.113255  ┆ 1682.74      │\n",
            "│ VS2     ┆ 1575               ┆ 11809.053333  ┆ 2170.81      │\n",
            "│ SI1     ┆ 2059               ┆ 8018.864012   ┆ 2563.69      │\n",
            "└─────────┴────────────────────┴───────────────┴──────────────┘\n"
          ]
        },
        {
          "output_type": "stream",
          "name": "stderr",
          "text": [
            "/tmp/ipython-input-111443240.py:3: DeprecationWarning: `pl.count()` is deprecated. Please use `pl.len()` instead.\n",
            "  pl.count().alias(\"Number of Diamonds\"),\n"
          ]
        }
      ]
    },
    {
      "cell_type": "markdown",
      "metadata": {
        "id": "Nuv7GMKV3znR"
      },
      "source": [
        "### Question 9: \"My luxury competitor claims they have the best prices for every cut-color combination. Show me our pricing structure across these combinations - I want to see where we're competitive.\""
      ]
    },
    {
      "cell_type": "code",
      "source": [
        "# Your code here:\n",
        "pricing_by_cut_color = df.group_by([\"Cut\", \"Color\"]).agg(pl.col(\"Price\").mean().alias(\"Average Price\")).sort([\"Cut\", \"Color\"])\n",
        "print(\"Pricing structure across cut-color combinations:\")\n",
        "print(pricing_by_cut_color)"
      ],
      "metadata": {
        "colab": {
          "base_uri": "https://localhost:8080/"
        },
        "id": "eIFNgeCnnZwb",
        "outputId": "27fe5ec4-0a43-41c6-9ba6-4f5e303b6509"
      },
      "execution_count": 24,
      "outputs": [
        {
          "output_type": "stream",
          "name": "stdout",
          "text": [
            "Pricing structure across cut-color combinations:\n",
            "shape: (30, 3)\n",
            "┌───────────┬───────┬───────────────┐\n",
            "│ Cut       ┆ Color ┆ Average Price │\n",
            "│ ---       ┆ ---   ┆ ---           │\n",
            "│ str       ┆ str   ┆ f64           │\n",
            "╞═══════════╪═══════╪═══════════════╡\n",
            "│ Fair      ┆ D     ┆ 6058.25       │\n",
            "│ Fair      ┆ E     ┆ 5370.625      │\n",
            "│ Fair      ┆ F     ┆ 6063.625      │\n",
            "│ Fair      ┆ G     ┆ 7345.52381    │\n",
            "│ Fair      ┆ H     ┆ 5908.5        │\n",
            "│ …         ┆ …     ┆ …             │\n",
            "│ Very Good ┆ E     ┆ 12101.910217  │\n",
            "│ Very Good ┆ F     ┆ 12413.905495  │\n",
            "│ Very Good ┆ G     ┆ 12354.013841  │\n",
            "│ Very Good ┆ H     ┆ 10056.106132  │\n",
            "│ Very Good ┆ I     ┆ 8930.031332   │\n",
            "└───────────┴───────┴───────────────┘\n"
          ]
        }
      ]
    },
    {
      "cell_type": "markdown",
      "metadata": {
        "id": "bvClAeXF3znR"
      },
      "source": [
        "**Reflection:** How specific is your analysis now? What level of detail does each row represent?"
      ]
    },
    {
      "cell_type": "markdown",
      "metadata": {
        "id": "tOve_4bq3znR"
      },
      "source": [
        "**Your answer:** New grain = Average price for a Cut - Color combination"
      ]
    },
    {
      "cell_type": "markdown",
      "metadata": {
        "id": "cerY8Ky93znR"
      },
      "source": [
        "### Question 10: URGENT - \"Our biggest client is interested in purchasing entire inventory segments. They asked: 'Which color-cut combinations represent your highest total inventory value?' Show me the top 5 most valuable inventory segments by total worth, and include how many diamonds are in each segment.\"\n",
        "\n",
        "This is critical for tomorrow's negotiation."
      ]
    },
    {
      "cell_type": "code",
      "source": [
        "# Your code here:\n",
        "inventory_value_by_cut_color = df.group_by([\"Color\", \"Cut\"]).agg([\n",
        "    pl.sum(\"Price\").alias(\"Total Value\"),\n",
        "    pl.count().alias(\"Number of Diamonds\")\n",
        "]).sort(\"Total Value\", descending=True).head(5)\n",
        "\n",
        "print(\"Top 5 most valuable inventory segments by total worth:\")\n",
        "print(inventory_value_by_cut_color)"
      ],
      "metadata": {
        "colab": {
          "base_uri": "https://localhost:8080/"
        },
        "id": "No1cKP3YoEcd",
        "outputId": "27296fee-face-44f7-c92a-cf71ae8accd9"
      },
      "execution_count": 29,
      "outputs": [
        {
          "output_type": "stream",
          "name": "stdout",
          "text": [
            "Top 5 most valuable inventory segments by total worth:\n",
            "shape: (5, 4)\n",
            "┌───────┬───────────┬─────────────┬────────────────────┐\n",
            "│ Color ┆ Cut       ┆ Total Value ┆ Number of Diamonds │\n",
            "│ ---   ┆ ---       ┆ ---         ┆ ---                │\n",
            "│ str   ┆ str       ┆ i64         ┆ u32                │\n",
            "╞═══════╪═══════════╪═════════════╪════════════════════╡\n",
            "│ G     ┆ Ideal     ┆ 9363514     ┆ 690                │\n",
            "│ G     ┆ Very Good ┆ 7140620     ┆ 578                │\n",
            "│ F     ┆ Very Good ┆ 5648327     ┆ 455                │\n",
            "│ F     ┆ Ideal     ┆ 5346782     ┆ 363                │\n",
            "│ H     ┆ Ideal     ┆ 5279687     ┆ 458                │\n",
            "└───────┴───────────┴─────────────┴────────────────────┘\n"
          ]
        },
        {
          "output_type": "stream",
          "name": "stderr",
          "text": [
            "/tmp/ipython-input-3602395640.py:4: DeprecationWarning: `pl.count()` is deprecated. Please use `pl.len()` instead.\n",
            "  pl.count().alias(\"Number of Diamonds\")\n"
          ]
        }
      ]
    },
    {
      "cell_type": "markdown",
      "metadata": {
        "id": "A7UF7zaj3znS"
      },
      "source": [
        "## Debrief\n",
        "\n",
        "Congratulations! You've just completed your first day as the diamond company's data analyst.\n",
        "\n",
        "Remember:\n",
        "- CEOs speak in business language, not technical terms\n",
        "- Always understand what each row represents before analyzing\n",
        "- Business questions contain clues about which operations to use"
      ]
    }
  ],
  "metadata": {
    "kernelspec": {
      "display_name": "Python 3",
      "language": "python",
      "name": "python3"
    },
    "language_info": {
      "codemirror_mode": {
        "name": "ipython",
        "version": 3
      },
      "file_extension": ".py",
      "mimetype": "text/x-python",
      "name": "python",
      "nbconvert_exporter": "python",
      "pygments_lexer": "ipython3",
      "version": "3.12.0"
    },
    "colab": {
      "provenance": []
    }
  },
  "nbformat": 4,
  "nbformat_minor": 0
}